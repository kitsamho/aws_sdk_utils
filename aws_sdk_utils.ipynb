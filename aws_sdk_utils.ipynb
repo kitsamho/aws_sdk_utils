{
 "cells": [
  {
   "cell_type": "code",
   "execution_count": null,
   "id": "ea42aee9",
   "metadata": {},
   "outputs": [],
   "source": [
    "\n",
    "import boto3\n",
    "\n",
    "import json\n",
    "import zipfile\n",
    "\n",
    "import pandas as pd\n",
    "import numpy as np\n",
    "\n",
    "import sys\n",
    "import os"
   ]
  },
  {
   "cell_type": "code",
   "execution_count": null,
   "id": "1d1febb0",
   "metadata": {},
   "outputs": [],
   "source": [
    "AWS_PERSONAL_ACCESS_KEY = os.getenv(\"AWS_PERSONAL_ACCESS_KEY\")\n",
    "AWS_SECRET_KEY = os.getenv(\"AWS_SECRET_KEY\")"
   ]
  },
  {
   "cell_type": "code",
   "execution_count": null,
   "id": "9261a7e9",
   "metadata": {},
   "outputs": [],
   "source": [
    "def get_s3_client(AWS_PERSONAL_ACCESS_KEY: str,AWS_SECRET_KEY: str,region: str):\n",
    "    session = boto3.Session(aws_access_key_id=AWS_PERSONAL_ACCESS_KEY,\\\n",
    "                            aws_secret_access_key=AWS_SECRET_KEY,region_name=region)\n",
    "    s3_client = session.resource('s3')\n",
    "    return s3_client"
   ]
  },
  {
   "cell_type": "code",
   "execution_count": null,
   "id": "0b4567aa",
   "metadata": {},
   "outputs": [],
   "source": [
    "s3_client = get_s3_client(AWS_PERSONAL_ACCESS_KEY,AWS_SECRET_KEY,'eu-west-2')"
   ]
  },
  {
   "cell_type": "code",
   "execution_count": null,
   "id": "de5199ad",
   "metadata": {},
   "outputs": [],
   "source": [
    "def create_bucket(s3_client: boto3.session,region: str, bucket_name: str):\n",
    "    bucket = s3_client.create_bucket(\n",
    "                  Bucket=bucket_name,\n",
    "                  CreateBucketConfiguration={'LocationConstraint': region})\n",
    "    return bucket"
   ]
  },
  {
   "cell_type": "code",
   "execution_count": null,
   "id": "51bd7111",
   "metadata": {},
   "outputs": [],
   "source": [
    "bucket = create_bucket(s3_client,'eu-west-2','sam-test-example')"
   ]
  },
  {
   "cell_type": "code",
   "execution_count": null,
   "id": "0be7adf8",
   "metadata": {},
   "outputs": [],
   "source": [
    "def view_bucket_objects(bucket):\n",
    "    for obj in bucket.objects.all():\n",
    "        print(obj.key)\n",
    "    return"
   ]
  },
  {
   "cell_type": "code",
   "execution_count": null,
   "id": "20f1e52f",
   "metadata": {},
   "outputs": [],
   "source": [
    "view_bucket_objects(bucket)"
   ]
  },
  {
   "cell_type": "code",
   "execution_count": null,
   "id": "718627eb",
   "metadata": {},
   "outputs": [],
   "source": [
    "def upload_file_to_bucket(file_name,s3_bucket, s3_prefix):\n",
    "    \"\"\"\n",
    "    File name - path of file to upload\n",
    "    s3_bucket - where you want to save the file\n",
    "    s3_prefix - the file prefix\n",
    "    \"\"\"\n",
    "    object_name = os.path.join(s3_prefix, file_name)\n",
    "    s3_client = boto3.client('s3')\n",
    "    try:\n",
    "        response = s3_client.upload_file(file_name, s3_bucket, object_name)\n",
    "    except ClientError as e:\n",
    "        logging.error(e)\n",
    "        return False"
   ]
  },
  {
   "cell_type": "code",
   "execution_count": null,
   "id": "a7330ba4",
   "metadata": {},
   "outputs": [],
   "source": [
    "delete_objects(bucket)"
   ]
  },
  {
   "cell_type": "code",
   "execution_count": null,
   "id": "e5ea4672",
   "metadata": {},
   "outputs": [],
   "source": [
    "def delete_bucket(bucket):\n",
    "    return bucket.delete()\n",
    "delete_bucket(bucket)"
   ]
  }
 ],
 "metadata": {
  "kernelspec": {
   "display_name": "Python 3",
   "language": "python",
   "name": "python3"
  },
  "language_info": {
   "codemirror_mode": {
    "name": "ipython",
    "version": 3
   },
   "file_extension": ".py",
   "mimetype": "text/x-python",
   "name": "python",
   "nbconvert_exporter": "python",
   "pygments_lexer": "ipython3",
   "version": "3.6.13"
  },
  "varInspector": {
   "cols": {
    "lenName": 16,
    "lenType": 16,
    "lenVar": 40
   },
   "kernels_config": {
    "python": {
     "delete_cmd_postfix": "",
     "delete_cmd_prefix": "del ",
     "library": "var_list.py",
     "varRefreshCmd": "print(var_dic_list())"
    },
    "r": {
     "delete_cmd_postfix": ") ",
     "delete_cmd_prefix": "rm(",
     "library": "var_list.r",
     "varRefreshCmd": "cat(var_dic_list()) "
    }
   },
   "types_to_exclude": [
    "module",
    "function",
    "builtin_function_or_method",
    "instance",
    "_Feature"
   ],
   "window_display": false
  }
 },
 "nbformat": 4,
 "nbformat_minor": 5
}
